{
 "cells": [
  {
   "cell_type": "code",
   "execution_count": 12,
   "id": "396db722",
   "metadata": {},
   "outputs": [],
   "source": [
    "# Unifrom Cost Search - shortest path between Source and Destination (Greedy)\n",
    "def UCS(graph, src, dest):\n",
    "    \n",
    "    minDistances, predecessor = abcd(graph, src)\n",
    "    path = []\n",
    "    currentNode = dest\n",
    "    while currentNode != src:\n",
    "        if currentNode not in predecessor:\n",
    "            print(\"Path not reachable\")\n",
    "            break\n",
    "        else:\n",
    "            path.insert(0, currentNode)\n",
    "            currentNode = predecessor[currentNode]\n",
    "    path.insert(0, src)\n",
    "    \n",
    "    if dest in minDistances and minDistances[dest] != float(\"inf\"):\n",
    "        print('Shortest distance is ' + str(minDistances[dest]))\n",
    "        print('And the path is ' + str(path))\n",
    "        \n",
    "#UCS(graph, 'a', 'd')"
   ]
  },
  {
   "cell_type": "code",
   "execution_count": 3,
   "id": "c0287173",
   "metadata": {},
   "outputs": [],
   "source": [
    "from collections import defaultdict"
   ]
  },
  {
   "cell_type": "code",
   "execution_count": 9,
   "id": "cb63e6ad",
   "metadata": {},
   "outputs": [],
   "source": [
    "def abcd(graph, src):\n",
    "    # The only criterium of adding a node to queue is if its distance has changed at the current step.\n",
    "    queue = [src]\n",
    "    minDistances = {v: float(\"inf\") for v in graph}\n",
    "    minDistances[src] = 0\n",
    "    predecessor = {}\n",
    "\n",
    "    while queue:\n",
    "        currentNode = queue.pop(0)\n",
    "        for neighbor in graph[currentNode]:\n",
    "            # get potential newDist from start to neighbor\n",
    "            newDist = minDistances[currentNode] + graph[currentNode][neighbor]\n",
    "            \n",
    "            # if the newDist is shorter to reach neighbor updated to newDist\n",
    "            if newDist < minDistances[neighbor]:\n",
    "                minDistances[neighbor] = min(newDist, minDistances[neighbor])\n",
    "                queue.append(neighbor)\n",
    "                predecessor[neighbor] = currentNode\n",
    "\n",
    "    return minDistances, predecessor"
   ]
  },
  {
   "cell_type": "code",
   "execution_count": 4,
   "id": "d5c11ab4",
   "metadata": {},
   "outputs": [
    {
     "data": {
      "text/plain": [
       "defaultdict(dict,\n",
       "            {'a': {'b': 6, 'c': 3},\n",
       "             'b': {'c': 1, 'd': 2},\n",
       "             'c': {'b': 4, 'd': 8, 'e': 2},\n",
       "             'd': {'e': 9},\n",
       "             'e': {'d': 7}})"
      ]
     },
     "execution_count": 4,
     "metadata": {},
     "output_type": "execute_result"
    }
   ],
   "source": [
    "def generateDirectedGraph(edges):\n",
    "    graph = defaultdict(dict)\n",
    "    for u, v, dist in edges:\n",
    "        graph[u][v] = dist\n",
    "    return graph\n",
    "  \n",
    "weighted_edges = [['a', 'b', 6], ['a', 'c', 3], ['b', 'c', 1], ['c', 'b', 4], ['b', 'd', 2], ['c', 'd', 8], ['c', 'e', 2], ['d', 'e', 9], ['e', 'd', 7]]\n",
    "directed_weighted_graph = generateDirectedGraph(weighted_edges)\n",
    "directed_weighted_graph"
   ]
  },
  {
   "cell_type": "code",
   "execution_count": 13,
   "id": "b8b90dad",
   "metadata": {},
   "outputs": [
    {
     "name": "stdout",
     "output_type": "stream",
     "text": [
      "Shortest distance is 8\n",
      "And the path is ['a', 'b', 'd']\n"
     ]
    }
   ],
   "source": [
    "UCS(directed_weighted_graph, 'a', 'd')"
   ]
  },
  {
   "cell_type": "code",
   "execution_count": null,
   "id": "7975ba7a",
   "metadata": {},
   "outputs": [],
   "source": []
  }
 ],
 "metadata": {
  "kernelspec": {
   "display_name": "Python 3 (ipykernel)",
   "language": "python",
   "name": "python3"
  },
  "language_info": {
   "codemirror_mode": {
    "name": "ipython",
    "version": 3
   },
   "file_extension": ".py",
   "mimetype": "text/x-python",
   "name": "python",
   "nbconvert_exporter": "python",
   "pygments_lexer": "ipython3",
   "version": "3.9.13"
  }
 },
 "nbformat": 4,
 "nbformat_minor": 5
}
